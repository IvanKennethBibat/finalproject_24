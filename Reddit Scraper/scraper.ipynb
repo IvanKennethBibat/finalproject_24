{
 "cells": [
  {
   "cell_type": "code",
   "execution_count": 1,
   "metadata": {},
   "outputs": [],
   "source": [
    "# Ivan Bibat\n",
    "# L00167791\n",
    "# 27/02/2024\n",
    "#\n",
    "# Reddit Scraper for data collection for sentiment analysis\n",
    "# pip install praw\n",
    "import praw\n",
    "import pandas as pd\n",
    "import time\n",
    "from datetime import datetime\n",
    "\n",
    "# Authentication for the Reddit API\n",
    "# Setting up PRAW for Reddit Scraping\n",
    "reddit = praw.Reddit(\n",
    "    client_id = \"fjwaLTwn8-8USuamEW9lAw\",\n",
    "    client_secret = \"HgVaKV4vhwQ1_YlYC9FqQshKrGSC2A\",\n",
    "    password = \"oClEPert*8786\",\n",
    "    user_agent = \"scraper by u/L00167791\",\n",
    ")\n"
   ]
  },
  {
   "cell_type": "code",
   "execution_count": 2,
   "metadata": {},
   "outputs": [],
   "source": [
    "\n",
    "# Function for processing each individual post\n",
    "def process_post(post):\n",
    "    return {\n",
    "        'title': post.title,\n",
    "        'text': post.selftext,\n",
    "        'score': post.score,\n",
    "        'comments': post.num_comments,\n",
    "        'submission_date': datetime.fromtimestamp(post.created_utc).strftime('%Y-%m-%d %H:%M:%S')  # Converts timestamp to datetime\n",
    "    }\n"
   ]
  },
  {
   "cell_type": "code",
   "execution_count": 3,
   "metadata": {},
   "outputs": [],
   "source": [
    "\n",
    "# List initalised for storing the scraped data.\n",
    "data = []\n",
    "\n",
    "# Sets the search to search all subreddits on reddit.\n",
    "subreddit = reddit.subreddit('all')\n",
    "\n",
    "# Keyword for the scraper to filter for.\n",
    "keyword = \"iPhone 15\"\n",
    "\n",
    "# Batch limit to 100 in order to comply with Reddit terms\n",
    "batch_limit = 100\n",
    "\n",
    "# Total limit to 1000 for a suitable dataset size\n",
    "total_limit = 5000\n"
   ]
  },
  {
   "cell_type": "code",
   "execution_count": 4,
   "metadata": {},
   "outputs": [
    {
     "name": "stdout",
     "output_type": "stream",
     "text": [
      "0\n",
      "4.402781009674072\n",
      "1\n",
      "3.9149293899536133\n"
     ]
    },
    {
     "ename": "KeyboardInterrupt",
     "evalue": "",
     "output_type": "error",
     "traceback": [
      "\u001b[1;31m---------------------------------------------------------------------------\u001b[0m",
      "\u001b[1;31mKeyboardInterrupt\u001b[0m                         Traceback (most recent call last)",
      "Cell \u001b[1;32mIn[4], line 22\u001b[0m\n\u001b[0;32m     19\u001b[0m \u001b[38;5;66;03m# Makes sure that the 60 seconds limit for the Reddit API has passed before proceeding with the next batch\u001b[39;00m\n\u001b[0;32m     20\u001b[0m sleep \u001b[38;5;241m=\u001b[39m \u001b[38;5;28mmax\u001b[39m(\u001b[38;5;241m60\u001b[39m \u001b[38;5;241m-\u001b[39m time_elapsed, \u001b[38;5;241m0\u001b[39m) \n\u001b[1;32m---> 22\u001b[0m \u001b[43mtime\u001b[49m\u001b[38;5;241;43m.\u001b[39;49m\u001b[43msleep\u001b[49m\u001b[43m(\u001b[49m\u001b[43msleep\u001b[49m\u001b[43m)\u001b[49m\n",
      "\u001b[1;31mKeyboardInterrupt\u001b[0m: "
     ]
    }
   ],
   "source": [
    "\n",
    "# Scraping Loop\n",
    "# for i in range(total_limit // batch_limit):\n",
    "for i in range(total_limit):\n",
    "    print(i)\n",
    "\n",
    "    for post in subreddit.search(keyword, limit = batch_limit):\n",
    "        data.append(process_post(post))\n",
    "\n",
    "        if len(data) >= total_limit:\n",
    "            break\n",
    "    \n",
    "    if len(data) >= total_limit:\n",
    "        break\n",
    "\n",
    "    # Makes sure that the 60 seconds limit for the Reddit API has passed before proceeding with the next batch\n",
    "    sleep = max(60 - time_elapsed, 0) \n",
    "\n",
    "    time.sleep(sleep)"
   ]
  },
  {
   "cell_type": "code",
   "execution_count": null,
   "metadata": {},
   "outputs": [],
   "source": [
    "\n",
    "df = pd.DataFrame(data)\n",
    "\n",
    "df.to_csv('Data/scrapedRedditData5000.csv', index=True)"
   ]
  }
 ],
 "metadata": {
  "kernelspec": {
   "display_name": "sentimentanalysis",
   "language": "python",
   "name": "python3"
  },
  "language_info": {
   "codemirror_mode": {
    "name": "ipython",
    "version": 3
   },
   "file_extension": ".py",
   "mimetype": "text/x-python",
   "name": "python",
   "nbconvert_exporter": "python",
   "pygments_lexer": "ipython3",
   "version": "3.12.3"
  }
 },
 "nbformat": 4,
 "nbformat_minor": 2
}
